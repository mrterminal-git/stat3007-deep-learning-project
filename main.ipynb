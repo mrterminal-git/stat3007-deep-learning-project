{
 "cells": [
  {
   "cell_type": "markdown",
   "id": "c39f9cbc",
   "metadata": {},
   "source": [
    "### This notebook will contain the loading of the datasets, and tie together the different parts of the project"
   ]
  },
  {
   "cell_type": "code",
   "execution_count": null,
   "id": "0048a912",
   "metadata": {},
   "outputs": [],
   "source": []
  },
  {
   "cell_type": "markdown",
   "id": "c729c902",
   "metadata": {},
   "source": [
    "### The CNN"
   ]
  },
  {
   "cell_type": "code",
   "execution_count": null,
   "id": "8397151f",
   "metadata": {},
   "outputs": [],
   "source": [
    "from CNN import *\n",
    "# T is your lookback period, features is number of features per timestep\n",
    "sequence_length = 10\n",
    "num_features = 5\n",
    "model = CNN(input_length=sequence_length, num_features=num_features, num_classes=2)"
   ]
  }
 ],
 "metadata": {
  "kernelspec": {
   "display_name": "base",
   "language": "python",
   "name": "python3"
  },
  "language_info": {
   "name": "python",
   "version": "3.10.9"
  }
 },
 "nbformat": 4,
 "nbformat_minor": 5
}
