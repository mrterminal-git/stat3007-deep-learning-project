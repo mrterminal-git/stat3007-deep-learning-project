{
 "cells": [
  {
   "cell_type": "code",
   "execution_count": 10,
   "id": "81e56d81",
   "metadata": {},
   "outputs": [],
   "source": [
    "import numpy as np\n",
    "\n",
    "class BacktestSharpeEvaluator:\n",
    "    def __init__(self):\n",
    "        self.portfolio_returns = []\n",
    "\n",
    "    def add_return(self, r: float):\n",
    "        \"\"\"Add a single next-day portfolio return.\"\"\"\n",
    "        self.portfolio_returns.append(r)\n",
    "\n",
    "    def add_returns(self, returns: list):\n",
    "        \"\"\"Add a list of next-day portfolio returns.\"\"\"\n",
    "        self.portfolio_returns.extend(returns)\n",
    "\n",
    "    def reset(self):\n",
    "        \"\"\"Reset the stored returns.\"\"\"\n",
    "        self.portfolio_returns = []\n",
    "\n",
    "    def calculate_sharpe(self, returns=None, risk_free_rate=0.0):\n",
    "        \"\"\"\n",
    "        Calculate Sharpe Ratio from stored or passed-in returns.\n",
    "        Sharpe Ratio = (mean - risk-free) / std deviation\n",
    "        \"\"\"\n",
    "        r = self.portfolio_returns if returns is None else returns\n",
    "        r = np.array(r)\n",
    "        if len(r) == 0 or np.std(r) == 0:\n",
    "            return np.nan\n",
    "        excess_returns = r - risk_free_rate\n",
    "        return np.mean(excess_returns) / np.std(excess_returns)\n",
    "\n",
    "    def normalize_weights_l1(self, raw_weights, phi=None):\n",
    "        \"\"\"\n",
    "        Normalize raw weights using Ordoñez's method:\n",
    "        w_normalized = (w_raw^T * phi) / ||w_raw^T * phi||_1\n",
    "\n",
    "        Parameters:\n",
    "            raw_weights: numpy array of shape (n_assets,)\n",
    "            phi: optional transformation matrix (e.g., identity or mapping from factor to asset space)\n",
    "\n",
    "        Returns:\n",
    "            L1-normalized weights: numpy array of shape (n_assets,)\n",
    "        \"\"\"\n",
    "        if phi is None:\n",
    "            phi = np.eye(len(raw_weights))  # default to identity if no mapping provided\n",
    "        raw = raw_weights.T @ phi\n",
    "        norm = np.sum(np.abs(raw))\n",
    "        if norm == 0:\n",
    "            return np.zeros_like(raw)\n",
    "        return raw / norm\n",
    "\n",
    "    def compute_portfolio_return(self, raw_weights, next_day_returns, phi=None):\n",
    "        \"\"\"\n",
    "        Normalize weights, compute and store the next-day portfolio return.\n",
    "\n",
    "        Parameters:\n",
    "            raw_weights: numpy array of shape (n_assets,)\n",
    "            next_day_returns: numpy array of shape (n_assets,)\n",
    "            phi: optional transformation matrix\n",
    "\n",
    "        Returns:\n",
    "            Computed return (float)\n",
    "        \"\"\"\n",
    "        w = self.normalize_weights_l1(raw_weights, phi)\n",
    "        r = float(np.dot(w, next_day_returns))\n",
    "        self.add_return(r)\n",
    "        return r"
   ]
  },
  {
   "cell_type": "code",
   "execution_count": null,
   "id": "fe401ffc",
   "metadata": {},
   "outputs": [
    {
     "name": "stdout",
     "output_type": "stream",
     "text": [
      "Sharpe Ratio: 0.03433070957516796\n",
      "Next Day Portfolio Return: 0.009000000000000001\n"
     ]
    }
   ],
   "source": [
    "evaluator = BacktestSharpeEvaluator()\n",
    "\n",
    "# Simulated backtest loop\n",
    "for i in range(220):\n",
    "    simulated_return = np.random.normal(0,\n",
    "     0.01)  # example return\n",
    "    evaluator.add_return(simulated_return)\n",
    "\n",
    "sharpe = evaluator.calculate_sharpe()\n",
    "print(\"Sharpe Ratio:\", sharpe)\n",
    "\n",
    "# Example 1: using the normalize_weights_l1 method\n",
    "raw_weights = np.array([0.2, 0.5, 0.3])\n",
    "next_day_returns = np.array([0.01, 0.02, -0.01])\n",
    "normalized_weights = evaluator.normalize_weights_l1(raw_weights)\n",
    "next_day_portfolio_return = evaluator.compute_portfolio_return(raw_weights, next_day_returns)\n",
    "# Store the next day portfolio return\n",
    "evaluator.add_return(next_day_portfolio_return)\n",
    "print(\"Next Day Portfolio Return:\", next_day_portfolio_return)\n",
    "\n"
   ]
  }
 ],
 "metadata": {
  "kernelspec": {
   "display_name": "STAT7007_Deep_Learning",
   "language": "python",
   "name": "python3"
  },
  "language_info": {
   "codemirror_mode": {
    "name": "ipython",
    "version": 3
   },
   "file_extension": ".py",
   "mimetype": "text/x-python",
   "name": "python",
   "nbconvert_exporter": "python",
   "pygments_lexer": "ipython3",
   "version": "3.11.11"
  }
 },
 "nbformat": 4,
 "nbformat_minor": 5
}
